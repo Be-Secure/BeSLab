{
 "cells": [
  {
   "cell_type": "markdown",
   "metadata": {},
   "source": [
    "Introduction\n",
    "\n",
    "BeSLab is an open source security lab blueprint dedicated to fortifying open source projects, models, training dataset against potential vulnerabilities. Designed to operate efficiently even in low-resource settings, BeSLab provides a comprehensive solution that grants complete control and transparency to application security and security operations teams.\n",
    "\n",
    "Types of BeSLab\n",
    "1. Private Lab - Lab hosted privately inside an organization’s private code collaboration platform\n",
    "2. Public Lab - Lab hosted in a community namespace of a public code collaboration platform like GitHub\n",
    "3. Personal Lab - Lab hosted privately within an individual’s laptop or a virtual machine\n",
    "\n",
    "This playbook outlines the steps for seeding a Private Lab in a single Linux machine. At the end of this playbook exectution, you are going to get a BeSLab instance provisioned with below set of components.\n",
    "1. A Code Collaboration Platform (For Instance, GitLab CE)\n",
    "2. BeSLighthouse\n",
    "3. BLIman\n",
    "4. BeSman\n",
    "5. NPM\n",
    "6. NodeJS\n",
    "\n",
    "Prerequisites\n",
    "1. Ubuntu VM - Minimum 4vCPU, 8GB RAM, 16GB Disk Space\n",
    "2. Python\n",
    "3. Bash\n",
    "4. PIP\n",
    "5. Jupyter Notebook:\n",
    "If you want to run this playbook. Alternatively, you can set up the lab by manually running all the commands listed in this playbook in the same order.\n",
    "6. AWS Specific Configurations:\n",
    "AWS VM installed with Ubuntu 22.04 does contains some aws specific packages which are installed with older versions so system pop warning messages for those packages and kernel being old version. These pop ups does hamper the non-interactive installation of BeSLab. So to suppress these warning during installation follow the below steps.\n",
    "Open file “/etc/needrestart/needrestart.conf”\n",
    "Change following parameters and save the changes.\n",
    "#$nrconf{restart} = 'i'; to $nrconf{restart} = 'a';\n",
    "#$nrconf{kernelhints} = -1; to $nrconf{kernelhints} = -1;\n",
    "Save and exit the file."
   ]
  },
  {
   "cell_type": "markdown",
   "metadata": {},
   "source": [
    "Steps to install Jupyter (If not present already):\n",
    "\n",
    "If Jupyter Notebook is not installed on the system already follow below steps to get it installed.\n",
    "1. Update and upgrade the system. Execute following commands.\n",
    ">> sudo apt-get update && sudo apt-get -y upgrade\n",
    "2. Install PIP (if not installed already)\n",
    ">> sudo apt-get -y install python3-pip\n",
    "3. Install Jupyter\n",
    ">> sudo python3 -m pip install jupyter\n",
    "4. Generate Jupyter Notebook configuration.\n",
    ">> jupyter notebook –generate-config\n",
    "5. Open Jupyter Notebook configuration at “$HOME/”\n",
    ">> vi $HOME/.jupyter/jupyter_notebook_config.py\n",
    "6. Change following and save\n",
    "   <br>c.ServerApp.ip = 'localhost' to c.ServerApp.ip = '0.0.0.0'\n",
    "   <br>Uncomment c.ServerApp.open_browser = False\n",
    "7. Save and close the file.\n",
    " \n",
    "Executing Jupyter Playbook\n",
    "\n",
    "To execute the jupyter playbook we need to start the jupyter notebook via terminal and upload the notebook to the Jupyter Notebook.\n",
    "<br>Start Jupyter Notebook:\n",
    "<br>cd to /opt folder.\n",
    "<br>Execute <i>jupyter notebook –allow-root</i>\n",
    "<br>Note the port number and token displayed on screen.\n",
    "<br>Open the browser and and enter “<machine IP>:<port captured above>”. It will open the Jupyter notenook UI.\n",
    "<br>Enter the token captured above into the input field shown and click on Sign In button. This will open the Jupyter Notebook page.\n",
    "<br>Upload this notebook using the Upload button."
   ]
  },
  {
   "cell_type": "markdown",
   "metadata": {
    "id": "Il-0L8Emy9n9"
   },
   "source": [
    "1. Download bliman setup script.\n",
    "\n"
   ]
  },
  {
   "cell_type": "code",
   "execution_count": 1,
   "metadata": {
    "colab": {
     "base_uri": "https://localhost:8080/"
    },
    "id": "fbbDGuJNzRrS",
    "outputId": "09cce57a-0104-4b2d-aa61-df1cbd7d8e0d"
   },
   "outputs": [
    {
     "name": "stdout",
     "output_type": "stream",
     "text": [
      "  % Total    % Received % Xferd  Average Speed   Time    Time     Time  Current\n",
      "                                 Dload  Upload   Total   Spent    Left  Speed\n",
      "100 18316  100 18316    0     0  45694      0 --:--:-- --:--:-- --:--:-- 45675\n"
     ]
    }
   ],
   "source": [
    "!curl -o bliman_setup.sh https://raw.githubusercontent.com/Be-Secure/BLIman/main/bliman_setup.sh; chmod +x bliman_setup.sh;"
   ]
  },
  {
   "cell_type": "markdown",
   "metadata": {
    "id": "TpQpwliY6aIn"
   },
   "source": [
    "2. Execute bliman setup."
   ]
  },
  {
   "cell_type": "code",
   "execution_count": 2,
   "metadata": {
    "id": "MgFaK7bO6aIn",
    "outputId": "8c22ae29-126f-420b-d7b8-93c04bff445c"
   },
   "outputs": [
    {
     "name": "stdout",
     "output_type": "stream",
     "text": [
      "Installing BLIman from https://github.com//Be-Secure/BLIman.git\n",
      "Cloning into '/tmp/BLIman'...\n",
      "remote: Enumerating objects: 960, done.\u001b[K\n",
      "remote: Counting objects: 100% (593/593), done.\u001b[K\n",
      "remote: Compressing objects: 100% (280/280), done.\u001b[K\n",
      "remote: Total 960 (delta 307), reused 441 (delta 241), pack-reused 367\u001b[K\n",
      "Receiving objects: 100% (960/960), 989.02 KiB | 2.16 MiB/s, done.\n",
      "Resolving deltas: 100% (374/374), done.\n",
      "Installing default genesis file ...\n",
      "Genesis file path not provided.\n",
      "Downloading default genesis file from Be-Secure community.\n",
      "  % Total    % Received % Xferd  Average Speed   Time    Time     Time  Current\n",
      "                                 Dload  Upload   Total   Spent    Left  Speed\n",
      "100  9021  100  9021    0     0  23313      0 --:--:-- --:--:-- --:--:-- 23310\n",
      "BLIMAN DIRECTORY is set to : /root/.bliman\n",
      "Create distribution directories...\n",
      " BBBBBBBBBBBBBBBBB   LLLLLLLLLLL             IIIIIIIIIIMMMMMMMM               MMMMMMMM               AAA               NNNNNNNN        NNNNNNNN \n",
      " B::::::::::::::::B  L:::::::::L             I::::::::IM:::::::M             M:::::::M              A:::A              N:::::::N       N::::::N \n",
      " B::::::BBBBBB:::::B L:::::::::L             I::::::::IM::::::::M           M::::::::M             A:::::A             N::::::::N      N::::::N \n",
      " BB:::::B     B:::::BLL:::::::LL             II::::::IIM:::::::::M         M:::::::::M            A:::::::A            N:::::::::N     N::::::N \n",
      "   B::::B     B:::::B  L:::::L                 I::::I  M::::::::::M       M::::::::::M           A:::::::::A           N::::::::::N    N::::::N \n",
      "   B::::B     B:::::B  L:::::L                 I::::I  M:::::::::::M     M:::::::::::M          A:::::A:::::A          N:::::::::::N   N::::::N \n",
      "   B::::BBBBBB:::::B   L:::::L                 I::::I  M:::::::M::::M   M::::M:::::::M         A:::::A A:::::A         N:::::::N::::N  N::::::N \n",
      "   B:::::::::::::BB    L:::::L                 I::::I  M::::::M M::::M M::::M M::::::M        A:::::A   A:::::A        N::::::N N::::N N::::::N \n",
      "   B::::BBBBBB:::::B   L:::::L                 I::::I  M::::::M  M::::M::::M  M::::::M       A:::::A     A:::::A       N::::::N  N::::N:::::::N \n",
      "   B::::B     B:::::B  L:::::L                 I::::I  M::::::M   M:::::::M   M::::::M      A:::::AAAAAAAAA:::::A      N::::::N   N:::::::::::N \n",
      "   B::::B     B:::::B  L:::::L                 I::::I  M::::::M    M:::::M    M::::::M     A:::::::::::::::::::::A     N::::::N    N::::::::::N \n",
      "   B::::B     B:::::B  L:::::L         LLLLLL  I::::I  M::::::M     MMMMM     M::::::M    A:::::AAAAAAAAAAAAA:::::A    N::::::N     N:::::::::N \n",
      " BB:::::BBBBBB::::::BLL:::::::LLLLLLLLL:::::LII::::::IIM::::::M               M::::::M   A:::::A             A:::::A   N::::::N      N::::::::N \n",
      " B:::::::::::::::::B L::::::::::::::::::::::LI::::::::IM::::::M               M::::::M  A:::::A               A:::::A  N::::::N       N:::::::N \n",
      " B::::::::::::::::B  L::::::::::::::::::::::LI::::::::IM::::::M               M::::::M A:::::A                 A:::::A N::::::N        N::::::N \n",
      "Looking for a previous installation of BLIMAN...\n",
      "Looking for curl...\n",
      "Looking for sed...\n",
      "Looking for git...\n",
      "Prime the config file...\n",
      "* Cleaning up...\n",
      "\n",
      "Set version to  ...\n",
      "Set native version to  ...\n",
      "Attempt update of interactive bash profile on regular UNIX...\n",
      "Added bliman init snippet to /root/.bashrc\n",
      "Attempt update of zsh profile...\n",
      "Updated existing /root/.zshrc\n",
      "\n",
      "All done! BLIMAN installed at /root/.bliman\n",
      "\n",
      "Issue the following command to verify installation:\n",
      "\n",
      "    bli help\n",
      "\n",
      "Update the genesis file.\n",
      "Load the genesis file using \"bli load\" command.\n",
      "\n",
      "\u001b[?2004h\u001b]0;root@ip-172-31-22-73: /opt\u0007\u001b[01;32mroot@ip-172-31-22-73\u001b[00m:\u001b[01;34m/opt\u001b[00m# ^C\u001b[?2004l\n",
      "\u001b[?2004l\n",
      "\u001b[?2004h\u001b]0;root@ip-172-31-22-73: /opt\u0007\u001b[01;32mroot@ip-172-31-22-73\u001b[00m:\u001b[01;34m/opt\u001b[00m# "
     ]
    }
   ],
   "source": [
    "!./bliman_setup.sh install"
   ]
  },
  {
   "cell_type": "markdown",
   "metadata": {
    "id": "XKU1rjL82Fwi"
   },
   "source": [
    "3. verify the installation of bliman."
   ]
  },
  {
   "cell_type": "code",
   "execution_count": 3,
   "metadata": {
    "id": "1eTKUHG-6aIo",
    "outputId": "898a3ced-5cf9-4b13-d3ba-b6456c60590f"
   },
   "outputs": [
    {
     "name": "stdout",
     "output_type": "stream",
     "text": [
      "  \n",
      "\u001b[1;1mNAME\u001b[0m\n",
      "   bli - The cli for BeSLab                                                                            \n",
      "  \n",
      "\u001b[1;1mSYNOPSIS  \u001b[0m\n",
      "   bli [command] [options]                                                                             \n",
      "  \n",
      "\u001b[1;1mDESCRIPTION\u001b[0m\n",
      "   BLIman (pronounced as ‘B-L-I-man’) is a command-line utility designed for creating and provisioning \n",
      "   the BeSLab in Host/Bare/lite mode.  It helps security professionals to reduce the turn around time  \n",
      "   for assessment of Open Source projects, AI Models, Model Datasets leaving them focus on the assess- \n",
      "   ment task rather than setting up environment for it. BLIman also provides seamless support for the  \n",
      "   installation of tools and utilities needed for the security professional for assessing different OSS\n",
      "   projects, AI models, Training datasets, documents and attest and publish the assement reports.      \n",
      "  \n",
      "\u001b[1;1m COMMANDS \u001b[0m\n",
      "   help: Display the help command                                                                      \n",
      "   list: List available modes for the Lab installation.                                                \n",
      "   initmode: Initializes the lab installation mode.                                                    \n",
      "   load: Read and load th Genesis file.                                                                \n",
      "   launchlab: install the lab components.                                                              \n",
      "   status: Display the list of installed Lab, its mode and tools with the versions installed           \n",
      "  \n",
      "\u001b[1;1m OPTIONS \u001b[0m\n",
      "   --genesisPath: Path for the genesis file to load.                                                   \n",
      "   --version: For passing the version number.                                                          \n",
      "  \n",
      "\u001b[1;1mEXAMPLE\u001b[0m\n",
      "  $ bli help                                                                                           \n",
      "  \n",
      "\u001b[1;1mFor details about specific command execute                                                                 \u001b[0m\n",
      "\u001b[1;33m   $ bli help <command name>                                                                           \u001b[0m\n",
      "   Choose command name from list of COMMANDS above\n",
      "  \n"
     ]
    }
   ],
   "source": [
    "!source /root/.bliman/bin/bliman-init.sh; bli help"
   ]
  },
  {
   "cell_type": "markdown",
   "metadata": {
    "id": "s7khhTVf6aIo"
   },
   "source": [
    "4. Modify the Genesis file as required or use the default genesis file."
   ]
  },
  {
   "cell_type": "markdown",
   "metadata": {
    "id": "iStV594u6aIo"
   },
   "source": [
    "5. Load the genesis file."
   ]
  },
  {
   "cell_type": "code",
   "execution_count": 11,
   "metadata": {
    "id": "L5M40FDg6aIo",
    "outputId": "89636f66-77a1-4623-c9a6-45a328cfbfad"
   },
   "outputs": [
    {
     "name": "stdout",
     "output_type": "stream",
     "text": [
      "\n",
      "\u001b[1;33m Genesis file path is not set checking file at default locations i.e PWD or /root/.bliman directory\u001b[0m\n",
      "\n",
      "\u001b[1;33m\u001b[0m\n",
      "\u001b[1;33m======================================================================================================\u001b[0m\n",
      "\u001b[1;33m Using genesis file found at /opt.                                                                    \u001b[0m\n",
      "\u001b[1;33m======================================================================================================\u001b[0m\n",
      "\u001b[1;33m\u001b[0m\n",
      "Loading Genesis file ...\n",
      "export BESLAB_CODECOLLAB_DATASTORES=besecure-assessment-datastore,besecure-assets-store,besecure-ml-assessment-datastore\n",
      "\u001b[1;32mGenesis file is loaded successfully!!\u001b[0m\n",
      "\n",
      "\u001b[1;33mExecute \"bli initmode <modename>\" to set the beslab mode to install.\u001b[0m\n",
      "\u001b[1;33m   use \"bli help initmode\" for more information.\u001b[0m\n",
      "\n"
     ]
    }
   ],
   "source": [
    "!source /root/.bliman/bin/bliman-init.sh; bli load"
   ]
  },
  {
   "cell_type": "markdown",
   "metadata": {
    "id": "T1CzK2Yl6aIp"
   },
   "source": [
    "6. Initialize lite mode."
   ]
  },
  {
   "cell_type": "code",
   "execution_count": 12,
   "metadata": {
    "id": "Bi77E7Gn6aIp",
    "outputId": "611fdf9f-3624-4de7-f42c-8cd5d250b787"
   },
   "outputs": [
    {
     "name": "stdout",
     "output_type": "stream",
     "text": [
      "\u001b[1;1m\u001b[0m\n",
      "\u001b[1;33m##############################################################################\u001b[0m\n",
      "\u001b[1;33m                       Setting lab mode as lite                         \u001b[0m\n",
      "\u001b[1;33m##############################################################################\u001b[0m\n",
      "\u001b[1;1m\u001b[0m\n",
      "\n",
      "\u001b[1;32mcandidate lite is available to install.\u001b[0m\n",
      "\n",
      "\u001b[1;33mcandidate lite is not installed already.\u001b[0m\n",
      "\u001b[1;32mcandidate lite will be installed.\u001b[0m\n",
      " ########  ########  ######  ##          ###    ########   \n",
      " ##     ## ##       ##    ## ##         ## ##   ##     ##  \n",
      " ##     ## ##       ##       ##        ##   ##  ##     ##  \n",
      " ########  ######    ######  ##       ##     ## ########   \n",
      " ##     ## ##             ## ##       ######### ##     ##  \n",
      " ##     ## ##       ##    ## ##       ##     ## ##     ##  \n",
      " ########  ########  ######  ######## ##     ## ########   \n",
      "\n",
      " ##       #### ########  ########  \n",
      " ##        ##     ##     ##        \n",
      " ##        ##     ##     ##        \n",
      " ##        ##     ##     ######    \n",
      " ##        ##     ##     ##        \n",
      " ##        ##     ##     ##        \n",
      " ######## ####    ##     ########  \n",
      "\n",
      " ##     ##  #######  ########  ########  \n",
      " ###   ### ##     ## ##     ## ##        \n",
      " #### #### ##     ## ##     ## ##        \n",
      " ## ### ## ##     ## ##     ## ######    \n",
      " ##     ## ##     ## ##     ## ##        \n",
      " ##     ## ##     ## ##     ## ##        \n",
      " ##     ##  #######  ########  ########  \n",
      "\n",
      "Installing BeSman\n",
      "IS Release = \n",
      "  % Total    % Received % Xferd  Average Speed   Time    Time     Time  Current\n",
      "                                 Dload  Upload   Total   Spent    Left  Speed\n",
      "100 12627  100 12627    0     0  32125      0 --:--:-- --:--:-- --:--:-- 32211\n",
      "Looking for a previous installation of BeSman...\n",
      " BBBBBBBBBBBBBBBBB                         SSSSSSSSSSSSSSS                                                             \n",
      " B::::::::::::::::B                      SS:::::::::::::::S                                                            \n",
      " B::::::BBBBBB:::::B                    S:::::SSSSSS::::::S                                                            \n",
      " BB:::::B     B:::::B                   S:::::S     SSSSSSS                                                            \n",
      "   B::::B     B:::::B    eeeeeeeeeeee   S:::::S               mmmmmmm    mmmmmmm     aaaaaaaaaaaaa  nnnn  nnnnnnnn     \n",
      "   B::::B     B:::::B  ee::::::::::::ee S:::::S             mm:::::::m  m:::::::mm   a::::::::::::a n:::nn::::::::nn   \n",
      "   B::::BBBBBB:::::B  e::::::eeeee:::::eeS::::SSSS         m::::::::::mm::::::::::m  aaaaaaaaa:::::an::::::::::::::nn  \n",
      "   B:::::::::::::BB  e::::::e     e:::::e SS::::::SSSSS    m::::::::::::::::::::::m           a::::ann:::::::::::::::n \n",
      "   B::::BBBBBB:::::B e:::::::eeeee::::::e   SSS::::::::SS  m:::::mmm::::::mmm:::::m    aaaaaaa:::::a  n:::::nnnn:::::n \n",
      "   B::::B     B:::::Be:::::::::::::::::e       SSSSSS::::S m::::m   m::::m   m::::m  aa::::::::::::a  n::::n    n::::n \n",
      "   B::::B     B:::::Be::::::eeeeeeeeeee             S:::::Sm::::m   m::::m   m::::m a::::aaaa::::::a  n::::n    n::::n \n",
      "   B::::B     B:::::Be:::::::e                      S:::::Sm::::m   m::::m   m::::ma::::a    a:::::a  n::::n    n::::n \n",
      " BB:::::BBBBBB::::::Be::::::::e         SSSSSSS     S:::::Sm::::m   m::::m   m::::ma::::a    a:::::a  n::::n    n::::n \n",
      " B:::::::::::::::::B  e::::::::eeeeeeee S::::::SSSSSS:::::Sm::::m   m::::m   m::::ma:::::aaaa::::::a  n::::n    n::::n \n",
      " B::::::::::::::::B    ee:::::::::::::e S:::::::::::::::SS m::::m   m::::m   m::::m a::::::::::aa:::a n::::n    n::::n \n",
      " BBBBBBBBBBBBBBBBB       eeeeeeeeeeeeee  SSSSSSSSSSSSSSS   mmmmmm   mmmmmm   mmmmmm  aaaaaaaaaa  aaaa nnnnnn    nnnnnn \n",
      "Looking for unzip...\n",
      "Looking for zip...\n",
      "Looking for curl...\n",
      "Looking for sed...\n",
      "Installing BeSMAN scripts...\n",
      "Create distribution directories...\n",
      "Prime the config file...\n",
      "config selfupdate/debug_mode = true\n",
      "Setting up user configs\n",
      "Download script archive...\n",
      "Extract script archive...\n",
      "Install scripts...\n",
      "Set version to 0.3.2 ...\n",
      "Attempt update of interactive bash profile on regular UNIX...\n",
      "Added besman init snippet to /root/.bashrc\n",
      "Attempt update of zsh profile...\n",
      "\n",
      "\n",
      "\n",
      "All done!\n",
      "\n",
      "\n",
      "Please open a new terminal, or run the following in the existing one:\n",
      "\n",
      "    source \"/root/.besman/bin/besman-init.sh\"\n",
      "    \n",
      "Then issue the following command:\n",
      "\n",
      "    bes help\n",
      "\n",
      "Enjoy!!!\n",
      "\n",
      "\u001b[1;32mLab mode is set to lite\u001b[0m\n",
      "\n",
      "\u001b[1;33mExecute \"bli launchlab\" to install beslab in lite mode.\u001b[0m\n",
      "\n"
     ]
    }
   ],
   "source": [
    "!source /root/.bliman/bin/bliman-init.sh; bli initmode lite"
   ]
  },
  {
   "cell_type": "markdown",
   "metadata": {
    "id": "sW9VKiPB6aIp"
   },
   "source": [
    "7. Verify lite mode is set."
   ]
  },
  {
   "cell_type": "markdown",
   "metadata": {
    "id": "QkpSGzYm6aIp"
   },
   "source": [
    "8. Verify besman is installed."
   ]
  },
  {
   "cell_type": "code",
   "execution_count": 6,
   "metadata": {
    "id": "8gwTTUNP6aIp",
    "outputId": "fd8ca046-7528-4ace-9651-a2b3722774d9"
   },
   "outputs": [
    {
     "name": "stdout",
     "output_type": "stream",
     "text": [
      "  \n",
      "\u001b[1;1mNAME\u001b[0m\n",
      "   bes - The cli for BeSman  \n",
      "  \n",
      "\u001b[1;1mSYNOPSIS  \u001b[0m\n",
      "   bes [command] [options] [ [environment name] | [playbook name] | [version] ] \n",
      "  \n",
      "\u001b[1;1mDESCRIPTION\u001b[0m\n",
      "   BeSman (pronounced as ‘B-e-S-man’) is a command-line utility designed for creating and provisioning customized security environments.\n",
      "   It helps security professionals to reduce the turn around time for assessment of Open Source projects, AI Models, Model Datasets\n",
      "   leaving them focus on the assessment task rather than setting up environment for it.\n",
      "   BeSman also provides seamless support for creating and executing BeS playbooks, enabling users to automate complex workflows and tasks.\n",
      "   With BeSman, users can efficiently manage and execute playbooks, streamlining their processes and enhancing productivity.\n",
      "  \n",
      "\u001b[1;1m COMMANDS \u001b[0m\n",
      "   help: Display the help command \n",
      "   list: List available environments, playbooks, roles. \n",
      "   install: Install available environments. \n",
      "   uninstall: Uninstall the installed environment. \n",
      "   update: Update the configurations of the installed environment. \n",
      "   validate: Validate the installtion of the environment. \n",
      "   reset: Reset the environment to default configurations. \n",
      "   create: Create environment script. \n",
      "   set: Change the BeSman config variables. \n",
      "   pull: Fetches the playbook from remote to local. \n",
      "   run: Execute available playbooks. \n",
      "   upgrade: Upgrade BeSman to the latest version \n",
      "   rm | remove: Remove BeSman from machine. \n",
      "   status: Display the list of installed environments and its current version \n",
      "  \n",
      "\u001b[1;1m OPTIONS \u001b[0m\n",
      "   -env | --environment: For passing the name of the environment script. \n",
      "   -V | --version: For passing the version number. \n",
      "   -P | --playbook: For passing the playbook name \n",
      "   --role: To list the role names \n",
      "  \n",
      "\u001b[1;1mFor more details execute below command\u001b[0m\n",
      "\u001b[1;33m   $ bes help <command name>\u001b[0m\n",
      "   Choose command name from list of COMMANDS\n",
      "  \n"
     ]
    }
   ],
   "source": [
    "!source /root/.bliman/bin/bliman-init.sh; source /root/.besman/bin/besman-init.sh; bes help"
   ]
  },
  {
   "cell_type": "markdown",
   "metadata": {
    "id": "pIjGIeSS6aIq"
   },
   "source": [
    "9. launch the lab installation."
   ]
  },
  {
   "cell_type": "code",
   "execution_count": 13,
   "metadata": {
    "id": "w-JUHXol6aIq",
    "outputId": "7a6fe3fa-a9a1-4247-892f-99de7cd2e5af"
   },
   "outputs": [
    {
     "name": "stdout",
     "output_type": "stream",
     "text": [
      "\u001b[1;1mBLIMAN is going to install following lab components as configured in genesis file.\u001b[0m\n",
      "\u001b[1;33m    LAB TYPE = private\u001b[0m\n",
      "\u001b[1;33m    LAB MODE = lite\u001b[0m\n",
      "\u001b[1;33m    LAB NAME = O31E\u001b[0m\n",
      "\u001b[1;33m    CODE COLLABORATION TOOL = gitlab-ce\u001b[0m\n",
      "\u001b[1;33m    CODE COLLABORATION TOOL VERSION = 16.2.1\u001b[0m\n",
      "\u001b[1;33m    CODE COLLABORATION DATASTORES = besecure-assessment-datastore,besecure-assets-store,besecure-ml-assessment-datastore\u001b[0m\n",
      "\u001b[1;33m    DASHBOARD TOOL = beslighthouse\u001b[0m\n",
      "\u001b[1;33m    DASHBOARD TOOL VERSION = 0.17.5\u001b[0m\n",
      "\u001b[1;1mInstalling beslab in lite mode\u001b[0m\n",
      "\u001b[1;1mBeSman found.\u001b[0m\n",
      "\u001b[1;33mSet BeSMan environment.\u001b[0m\n",
      "\u001b[1;33mVariable 'BESMAN_LOCAL_ENV' value updated to 'true'\u001b[0m\n",
      "\u001b[1;33mVariable 'BESMAN_LOCAL_ENV_DIR' value updated to '/root/.beslab'\u001b[0m\n",
      "\u001b[1;33mVariable 'BESMAN_ENV_REPOS' value updated to 'Be-Secure/BeSLab'\u001b[0m\n",
      "\u001b[1;33mInstalling JQ for JSON response readings.\u001b[0m\n",
      "/usr/bin/jq\n",
      "Cloning into '/tmp/beslab'...\n",
      "remote: Enumerating objects: 653, done.\u001b[K\n",
      "remote: Counting objects: 100% (157/157), done.\u001b[K\n",
      "remote: Compressing objects: 100% (109/109), done.\u001b[K\n",
      "remote: Total 653 (delta 88), reused 67 (delta 41), pack-reused 496\u001b[K\n",
      "Receiving objects: 100% (653/653), 1.57 MiB | 6.19 MiB/s, done.\n",
      "Resolving deltas: 100% (342/342), done.\n",
      "\u001b[1;32mBeSMan environment is set.\u001b[0m\n",
      "\u001b[1;33mCalling BesMan to install BeSLab.\u001b[0m\n",
      "\u001b[1;33mSourcing default config parameters\u001b[0m\n",
      "\u001b[1;33mUpdating system\u001b[0m\n",
      "\u001b[1;33mInstall dependencies\u001b[0m\n",
      "\u001b[1;33mInstall Gitlab-CE\u001b[0m\n",
      "  % Total    % Received % Xferd  Average Speed   Time    Time     Time  Current\n",
      "                                 Dload  Upload   Total   Spent    Left  Speed\n",
      "100  6865  100  6865    0     0  15522      0 --:--:-- --:--:-- --:--:-- 15496\n",
      "\u001b[1;33mConfiguring gitlab ...\u001b[0m\n",
      "\u001b[1;33mPlease wait ...\u001b[0m\n",
      "\u001b[1;32mGitlab root password = lTCTVwHncKHKAbf5u5yuGTa+91GMIr8iPwa05YJSOy4=\n",
      "\u001b[1;32mGitlab is installed succussfully ...\u001b[0m\u001b[0m\n",
      "\u001b[1;33mCreating gitlab user...\u001b[0m\n",
      "\u001b[1;33mCreating datastore repos in gitlab. Please wait ...\u001b[0m\n",
      "\u001b[1;33mCreating default folders and files in besecure-assets-store ...\u001b[0m\n",
      "  % Total    % Received % Xferd  Average Speed   Time    Time     Time  Current\n",
      "                                 Dload  Upload   Total   Spent    Left  Speed\n",
      "100  4698  100  4698    0     0   2660      0  0:00:01  0:00:01 --:--:--  2660\n",
      "Project ID for besecure-assets-store is 2\n",
      "  % Total    % Received % Xferd  Average Speed   Time    Time     Time  Current\n",
      "                                 Dload  Upload   Total   Spent    Left  Speed\n",
      "100  4698  100  4698    0     0   2487      0  0:00:01  0:00:01 --:--:--  2487\n",
      "Project ID for besecure-assets-store is 2\n",
      "  % Total    % Received % Xferd  Average Speed   Time    Time     Time  Current\n",
      "                                 Dload  Upload   Total   Spent    Left  Speed\n",
      "100  4698  100  4698    0     0  25567      0 --:--:-- --:--:-- --:--:-- 25672\n",
      "Project ID for besecure-assets-store is 2\n",
      "  % Total    % Received % Xferd  Average Speed   Time    Time     Time  Current\n",
      "                                 Dload  Upload   Total   Spent    Left  Speed\n",
      "100  4698  100  4698    0     0  22690      0 --:--:-- --:--:-- --:--:-- 22805\n",
      "Project ID for besecure-assets-store is 2\n",
      "  % Total    % Received % Xferd  Average Speed   Time    Time     Time  Current\n",
      "                                 Dload  Upload   Total   Spent    Left  Speed\n",
      "100  4698  100  4698    0     0  24895      0 --:--:-- --:--:-- --:--:-- 24857\n",
      "Project ID for besecure-assets-store is 2\n",
      "  % Total    % Received % Xferd  Average Speed   Time    Time     Time  Current\n",
      "                                 Dload  Upload   Total   Spent    Left  Speed\n",
      "100  4698  100  4698    0     0  12486      0 --:--:-- --:--:-- --:--:-- 12461\n",
      "Project ID for besecure-assets-store is 2\n",
      "\u001b[1;32mGitlab is ready to use!!\u001b[0m\n",
      "\u001b[1;33mInstalling node 20\u001b[0m\n",
      "  % Total    % Received % Xferd  Average Speed   Time    Time     Time  Current\n",
      "                                 Dload  Upload   Total   Spent    Left  Speed\n",
      "100 15916  100 15916    0     0   147k      0 --:--:-- --:--:-- --:--:--  148k\n",
      "=> Downloading nvm from git to '/root/.nvm'\n",
      "=> Cloning into '/root/.nvm'...\n",
      "remote: Enumerating objects: 365, done.\u001b[K\n",
      "remote: Counting objects: 100% (365/365), done.\u001b[K\n",
      "remote: Compressing objects: 100% (313/313), done.\u001b[K\n",
      "remote: Total 365 (delta 43), reused 166 (delta 26), pack-reused 0\u001b[K\n",
      "Receiving objects: 100% (365/365), 365.08 KiB | 10.14 MiB/s, done.\n",
      "Resolving deltas: 100% (43/43), done.\n",
      "* \u001b[32m(HEAD detached at FETCH_HEAD)\u001b[m\n",
      "  master\u001b[m\n",
      "=> Compressing and cleaning up git repository\n",
      "\n",
      "=> Appending nvm source string to /root/.bashrc\n",
      "=> Appending bash_completion source string to /root/.bashrc\n",
      "=> Close and reopen your terminal to start using nvm or run the following to use it now:\n",
      "\n",
      "export NVM_DIR=\"$HOME/.nvm\"\n",
      "[ -s \"$NVM_DIR/nvm.sh\" ] && \\. \"$NVM_DIR/nvm.sh\"  # This loads nvm\n",
      "[ -s \"$NVM_DIR/bash_completion\" ] && \\. \"$NVM_DIR/bash_completion\"  # This loads nvm bash_completion\n",
      "Downloading and installing node v20.12.2...\n",
      "Downloading https://nodejs.org/dist/v20.12.2/node-v20.12.2-linux-x64.tar.xz...\n",
      "######################################################################### 100.0%\n",
      "Computing checksum with sha256sum\n",
      "Checksums matched!\n",
      "Now using node v20.12.2 (npm v10.5.0)\n",
      "Creating default alias: \u001b[0;32mdefault\u001b[0m \u001b[0;90m->\u001b[0m \u001b[0;32mv20.12.2\u001b[0m\n",
      "Now using node v20.12.2 (npm v10.5.0)\n",
      "\u001b[1;32mInstalled node version is \u001b[0m\n",
      "\u001b[1;33mFetching BesLighthouse version 0.17.5 from github Be-Secure namespace.\u001b[0m\n",
      "\u001b[1;32mFetched beslighthouse to /opt/beslighthouse\u001b[0m\n",
      "\u001b[1;33mconfiguring beslighthouse datastore path.\u001b[0m\n",
      "\u001b[1;33mInstalling pip if not installed already\u001b[0m\n",
      "/usr/bin/pip\n",
      "\u001b[1;33mInstalling proxy for beslighthouse...\u001b[0m\n",
      "\u001b[1;33mStrating beslighthouse proxy service ...\u001b[0m\n",
      "\u001b[1;32mService beslighthouse proxy started successfully.\u001b[0m\n",
      "\u001b[1;32mbeslighthouse proxy service is started ...\u001b[0m\n",
      "\u001b[1;33mInstalling npm if not installed already ...\u001b[0m\n",
      "\u001b[1;33mInstalling beslighthouse dependencies ...\u001b[0m\n",
      "\u001b[1;33msetting up beslighthouse service ...\u001b[0m\n",
      "\u001b[1;32mBeslighthouse service is set ...\u001b[0m\n",
      "\u001b[1;33mStarting beslighthouse service ...\u001b[0m\n",
      "\u001b[1;32mService beslighthouse started successfully.\u001b[0m\n",
      "\u001b[1;32mSuccessfully installed beslab-env\u001b[0m\n",
      "\u001b[1;32mInstalled beslab in lite mode\u001b[0m\n",
      "\u001b[1;32m\u001b[0m\n",
      "\u001b[1;33mBLIMAN installed following lab components to the system.\u001b[0m\n",
      "\u001b[1;32m    LAB TYPE = private\u001b[0m\n",
      "\u001b[1;32m    LAB MODE = lite\u001b[0m\n",
      "\u001b[1;32m    LAB NAME = O31E\u001b[0m\n",
      "\u001b[1;32m\u001b[0m\n",
      "\u001b[1;32m    CODE COLLABORATION TOOL = gitlab-ce\u001b[0m\n",
      "\u001b[1;32m    CODE COLLABORATION TOOL VERSION = 16.2.1\u001b[0m\n",
      "\u001b[1;32m    CODE COLLABORATION DATASTORES = besecure-assessment-datastore,besecure-assets-store,besecure-ml-assessment-datastore\u001b[0m\n",
      "\u001b[1;32m    DASHBOARD TOOL = beslighthouse\u001b[0m\n",
      "\u001b[1;32m    DASHBOARD TOOL VERSION = 0.17.5\u001b[0m\n",
      "\u001b[1;32m\u001b[0m\n",
      "\u001b[1;32m\u001b[0m\n",
      "\u001b[1;1m \u001b[0m\n",
      "\u001b[1;1mGitlab is accessible at 3.7.251.24 \u001b[0m\n",
      "\u001b[1;1m    Login to the gitlab using username as O31E. Use default password.\u001b[0m\n",
      "\u001b[1;1m \u001b[0m\n",
      "\u001b[1;1m \u001b[0m\n",
      "\u001b[1;1mBeSLighthouse is accessible at 3.7.251.24:3000 \u001b[0m\n",
      "\u001b[1;1m \u001b[0m\n",
      "\u001b[1;1m \u001b[0m\n"
     ]
    }
   ],
   "source": [
    "!source /root/.bliman/bin/bliman-init.sh; source /root/.besman/bin/besman-init.sh; bli launchlab;"
   ]
  },
  {
   "cell_type": "markdown",
   "metadata": {
    "id": "DlHFFr6P6aIq"
   },
   "source": [
    "10. Open the browser and enter \"http://10.10.10.10/\". Gitlab login page should get displayed.\n",
    "    (Note: change the IP to the public ip of server)\n",
    "12. Clone the assets store repo from Gitlab using \"http://10.10.10.10/O31E/besecure-assets-store.git\"\n",
    "    (Note: change the IP to the public ip of server)\n",
    "14. Create a directory named \"Be-Secure\".\n",
    "15. Change to directory \"Be-Secure\" and Clone the assets store repo from Be-Secure community \"https://github.com/Be-Secure/besecure-assets-store.git\"\n",
    "16. Change directory to parent directory and copy project-metadata.json as follows:\n",
    "    \"cp ./Be-Secure/besecure-assets-store/projects/project-metadata.json ./besecure-assets-store/projects/project-metadata.json\"\n",
    "17. Change directory to \"besecure-assets-store\" (The one cloned from Gitlab).\n",
    "18. Do the git commit \"git commit -a -m \"test data\" \".\n",
    "19. Do the git push \"git push origin main\"\n",
    "20. It will open up a gitlab window. Enter the user credentials as (username: o31e, pass: Welc0me@123)"
   ]
  },
  {
   "cell_type": "markdown",
   "metadata": {},
   "source": [
    "20. Go to the borwser and enter \"http://10.10.10.10:3000\".\n",
    "    (Note: change the IP to the public ip of server)\n",
    "22. Be-Lighthouse UI should be available.\n",
    "23. Click on the \"Projects Of Interest\" tab and verify that it shows the data uploaded to gitlab assets store repo."
   ]
  }
 ],
 "metadata": {
  "colab": {
   "provenance": []
  },
  "kernelspec": {
   "display_name": "Python 3 (ipykernel)",
   "language": "python",
   "name": "python3"
  },
  "language_info": {
   "codemirror_mode": {
    "name": "ipython",
    "version": 3
   },
   "file_extension": ".py",
   "mimetype": "text/x-python",
   "name": "python",
   "nbconvert_exporter": "python",
   "pygments_lexer": "ipython3",
   "version": "3.10.12"
  }
 },
 "nbformat": 4,
 "nbformat_minor": 4
}
