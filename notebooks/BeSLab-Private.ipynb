{
 "cells": [
  {
   "cell_type": "markdown",
   "metadata": {},
   "source": [
    "## Introduction\n",
    "\n",
    "BeSLab is an open source security lab blueprint dedicated to fortifying open source projects, models, training dataset against potential vulnerabilities. Designed to operate efficiently even in low-resource settings, BeSLab provides a comprehensive solution that grants complete control and transparency to application security and security operations teams.\n",
    "\n",
    "#### Types of BeSLab\n",
    "1. Private Lab - Lab hosted privately inside an organization’s private code collaboration platform\n",
    "2. Public Lab - Lab hosted in a community namespace of a public code collaboration platform like GitHub\n",
    "3. Personal Lab - Lab hosted privately within an individual’s laptop or a virtual machine\n",
    "\n",
    "#### Seed a Private Lab\n",
    "This playbook outlines the steps for seeding a Private Lab in a single Linux machine. At the end of this playbook exectution, you are going to get a BeSLab instance provisioned with below set of components.\n",
    "1. A Code Collaboration Platform (For Instance, GitLab CE)\n",
    "2. BeSLighthouse\n",
    "3. BLIman\n",
    "4. BeSman\n",
    "5. NPM\n",
    "6. NodeJS\n",
    "\n",
    "#### Prerequisites\n",
    "1. Ubuntu VM - Minimum 4vCPU, 8GB RAM, 16GB Disk Space\n",
    "2. Python\n",
    "3. Bash\n",
    "4. PIP\n",
    "5. Jupyter Notebook:\n",
    "<br>If you want to run this playbook. Alternatively, you can set up the lab by manually running all the commands listed in this playbook in the same order.\n",
    "6. AWS Specific Configurations:\n",
    "<br>AWS VM installed with Ubuntu 22.04 does contains some aws specific packages which are installed with older versions so system pop warning messages for those packages and kernel being old version. These pop ups does hamper the non-interactive installation of BeSLab. So to suppress these warning during installation follow the below steps.\n",
    "\n",
    "    1. Open file “/etc/needrestart/needrestart.conf”\n",
    "    2. Change following parameters and save the changes.\n",
    "    <br>Uncomment and set `\$nrconf\{restart\} = 'a'`\n",
    "    <br>Uncomment and set `\$nrconf\{kernelhints\} = -1;`\n",
    "    3. Save and exit the file."
   ]
  },
  {
   "cell_type": "markdown",
   "metadata": {},
   "source": [
    "#### Steps to install Jupyter (If not present already):\n",
    "\n",
    "If Jupyter Notebook is not installed on the system already follow below steps to get it installed.\n",
    "1. Update and upgrade the system. Execute following commands.\n",
    "   <br>sudo apt-get update && sudo apt-get -y upgrade\n",
    "2. Install PIP (if not installed already)\n",
    "   <br>sudo apt-get -y install python3-pip\n",
    "3. Install Jupyter\n",
    "   <br>sudo python3 -m pip install jupyter\n",
    "4. Generate Jupyter Notebook configuration.\n",
    "   <br>jupyter notebook –generate-config\n",
    "5. Open Jupyter Notebook configuration at “$HOME/”\n",
    "   <br>vi $HOME/.jupyter/jupyter_notebook_config.py\n",
    "6. Change following and save\n",
    "   <br>c.ServerApp.ip = 'localhost' to c.ServerApp.ip = '0.0.0.0'\n",
    "   <br>Uncomment c.ServerApp.open_browser = False\n",
    "7. Save and close the file.\n",
    " \n",
    "#### Executing Jupyter Notebook\n",
    "\n",
    "To execute the jupyter playbook we need to start the jupyter notebook via terminal and upload the notebook to the Jupyter Notebook.\n",
    "1. Start Jupyter Notebook:\n",
    "2. cd to /opt folder.\n",
    "3. Execute <i>jupyter notebook –allow-root</i>. Notedown the port number and token displayed on screen.\n",
    "5. Open the browser and and enter “<machine IP>:<port captured above>”. It will open the Jupyter notenook UI.\n",
    "6. Enter the token captured above into the input field shown and click on Sign In button. This will open the Jupyter Notebook page.\n",
    "7. Upload this notebook using the Upload button."
   ]
  },
  {
   "cell_type": "markdown",
   "metadata": {},
   "source": [
    "## Private Lab Seeding Playbook Steps"
   ]
  },
  {
   "cell_type": "markdown",
   "metadata": {
    "id": "Il-0L8Emy9n9"
   },
   "source": [
    " #### 1. Download bliman setup script"
   ]
  },
  {
   "cell_type": "code",
   "execution_count": null,
   "metadata": {
    "colab": {
     "base_uri": "https://localhost:8080/"
    },
    "id": "fbbDGuJNzRrS",
    "outputId": "09cce57a-0104-4b2d-aa61-df1cbd7d8e0d"
   },
   "outputs": [],
   "source": [
    "!curl -o bliman_setup.sh https://raw.githubusercontent.com/Be-Secure/BLIman/main/bliman_setup.sh; chmod +x bliman_setup.sh;"
   ]
  },
  {
   "cell_type": "markdown",
   "metadata": {
    "id": "TpQpwliY6aIn"
   },
   "source": [
    "#### 2. Execute BLIman setup"
   ]
  },
  {
   "cell_type": "code",
   "execution_count": null,
   "metadata": {
    "id": "MgFaK7bO6aIn",
    "outputId": "8c22ae29-126f-420b-d7b8-93c04bff445c"
   },
   "outputs": [],
   "source": [
    "!./bliman_setup.sh install"
   ]
  },
  {
   "cell_type": "markdown",
   "metadata": {
    "id": "XKU1rjL82Fwi"
   },
   "source": [
    "#### 3. Verify the installation of BLIman"
   ]
  },
  {
   "cell_type": "code",
   "execution_count": null,
   "metadata": {
    "id": "1eTKUHG-6aIo",
    "outputId": "898a3ced-5cf9-4b13-d3ba-b6456c60590f"
   },
   "outputs": [],
   "source": [
    "!source /root/.bliman/bin/bliman-init.sh; bli help"
   ]
  },
  {
   "cell_type": "markdown",
   "metadata": {
    "id": "s7khhTVf6aIo"
   },
   "source": [
    "#### 4. Load the genesis file\n",
    "Modify the genesis file as required or use the default one."
   ]
  },
  {
   "cell_type": "code",
   "execution_count": null,
   "metadata": {
    "id": "L5M40FDg6aIo",
    "outputId": "89636f66-77a1-4623-c9a6-45a328cfbfad"
   },
   "outputs": [],
   "source": [
    "!source /root/.bliman/bin/bliman-init.sh; bli load"
   ]
  },
  {
   "cell_type": "markdown",
   "metadata": {
    "id": "T1CzK2Yl6aIp"
   },
   "source": [
    "#### 6. Initialize lite mode\n",
    "Verify whether lite mode is set at the end this command execution result."
   ]
  },
  {
   "cell_type": "code",
   "execution_count": null,
   "metadata": {
    "id": "Bi77E7Gn6aIp",
    "outputId": "611fdf9f-3624-4de7-f42c-8cd5d250b787"
   },
   "outputs": [],
   "source": [
    "!source /root/.bliman/bin/bliman-init.sh; bli initmode lite"
   ]
  },
  {
   "cell_type": "markdown",
   "metadata": {
    "id": "QkpSGzYm6aIp"
   },
   "source": [
    "#### 7. Verify BeSman is installed"
   ]
  },
  {
   "cell_type": "code",
   "execution_count": null,
   "metadata": {
    "id": "8gwTTUNP6aIp",
    "outputId": "fd8ca046-7528-4ace-9651-a2b3722774d9"
   },
   "outputs": [],
   "source": [
    "!source /root/.bliman/bin/bliman-init.sh; source /root/.besman/bin/besman-init.sh; bes help"
   ]
  },
  {
   "cell_type": "markdown",
   "metadata": {
    "id": "pIjGIeSS6aIq"
   },
   "source": [
    "#### 8. Launch the lab installation"
   ]
  },
  {
   "cell_type": "code",
   "execution_count": null,
   "metadata": {
    "id": "w-JUHXol6aIq",
    "outputId": "7a6fe3fa-a9a1-4247-892f-99de7cd2e5af"
   },
   "outputs": [],
   "source": [
    "!source /root/.bliman/bin/bliman-init.sh; source /root/.besman/bin/besman-init.sh; bli launchlab;"
   ]
  },
  {
   "cell_type": "markdown",
   "metadata": {
    "id": "DlHFFr6P6aIq"
   },
   "source": [
    "#### 9. Verify the lab installation\n",
    "1. Open GitLab. Go to browser and enter http://gitlab-server-IP. (Give the actual IP or domain name). Login with the default credentials (Lab name configured in genesis.yaml / Welc0me@123). Change the default password upon login.\n",
    "2. Open BeSLighthouse. Go to browser and enter http://BeSLighthouse-IP:3000. (Give the actual IP or domain name). BeSLighthouse UI should open up. Click the \"Projects Of Interest\" tab and verify that it shows an empty list."
   ]
  }
 ],
 "metadata": {
  "colab": {
   "provenance": []
  },
  "kernelspec": {
   "display_name": "Python 3 (ipykernel)",
   "language": "python",
   "name": "python3"
  },
  "language_info": {
   "codemirror_mode": {
    "name": "ipython",
    "version": 3
   },
   "file_extension": ".py",
   "mimetype": "text/x-python",
   "name": "python",
   "nbconvert_exporter": "python",
   "pygments_lexer": "ipython3",
   "version": "3.10.12"
  }
 },
 "nbformat": 4,
 "nbformat_minor": 4
}
