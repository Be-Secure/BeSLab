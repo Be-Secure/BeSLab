{
  "nbformat": 4,
  "nbformat_minor": 0,
  "metadata": {
    "colab": {
      "provenance": []
    },
    "kernelspec": {
      "name": "python3",
      "display_name": "Python 3"
    },
    "language_info": {
      "name": "python"
    }
  },
  "cells": [
    {
      "cell_type": "markdown",
      "source": [
        "Playbook to install Security Lab for a individual Security Anslyst on a local setup or VM."
      ],
      "metadata": {
        "id": "mYTRm6Pc72wq"
      }
    },
    {
      "cell_type": "markdown",
      "source": [
        "1. Download the Genesis file and quic_install script."
      ],
      "metadata": {
        "id": "T7BMAiOkTp2C"
      }
    },
    {
      "cell_type": "code",
      "execution_count": null,
      "metadata": {
        "id": "ey_W3E497uzh"
      },
      "outputs": [],
      "source": [
        "!curl -o beslab_genesis.yaml https://raw.githubusercontent.com/anilsingla/BeSLab/main/beslab_genesis.yaml"
      ]
    },
    {
      "cell_type": "markdown",
      "source": [
        "Edit Genesis file as required.\n",
        "Following are the mandatory fields to populate. Leave default values or change as required.\n",
        "\n",
        "BLIMAN_HOSTED_URL: https://raw.githubusercontent.com <br>\n",
        "BLIMAN_NAMESPACE: Be-Secure <br>\n",
        "BLIMAN_REPO_URL: https://raw.githubusercontent.com/Be-Secure/BLIman/main <br>\n",
        "BLIMAN_VERSION: 0.1.0 <br>\n",
        "BLIMAN_LAB_URL: https://raw.githubusercontent.com/Be-Secure/BeSLab/main <br>\n",
        "BESLAB_LAB_TYPE: personal <br> [ Note: for personal lab don't change it ] <br>\n",
        "BESLAB_LAB_MODE: lite <br>\n",
        "BESLAB_JAVA_FLAVOUR: openjdk <br>\n",
        "BESLAB_JAVA_VERSION: 8 <br>\n",
        "BESLAB_JAVA_HOME: /opt/tools/ <br>\n",
        "BESLAB_DASHBOARD_TOOL: beslighthouse <br>\n",
        "BESLAB_DASHBOARD_RELEASE_VERSION: 0.16.2 <br>\n",
        "BESLAB_DASHBOARD_RELEASE_URL: https://github.com/Be-Secure/BeSlighthouse/archive/refs/tags/0.16.2.tar.gz <br>\n",
        "BESLAB_DASHBOARD_DATASTORES_URL: https://github.com/Be-Secure/ <br>\n",
        "BESLAB_CODECOLLAB_POI_NAME: osspoi-datastore <br>\n",
        "BESLAB_CODECOLLAB_MOI_NAME: ossmoi-datastore <br>\n",
        "BESLAB_CODECOLLAB_VOI_NAME: ossvoi-datastore <br>\n",
        "BESLAB_CODECOLLAB_TDOI_NAME: osstdoi-datastore <br>\n",
        "BESLAB_CODECOLLAB_DOI_NAME: ossdoi-datastore <br>\n",
        "BESLAB_CODECOLLAB_AD_NAME: assessment-datastore <br>\n",
        "BESLAB_CODECOLLAB_OSAR_NAME: osar-datastore <br>\n",
        "BESLAB_PUBLIC_CODECOLLAB_PROVIDER_NAME: github <br>\n",
        "BESLAB_PUBLIC_CODECOLLAB_PROVIDER_BROWSER_URL: https://github.com <br>\n",
        "BESLAB_PUBLIC_CODECOLLAB_PROVIDER_DOWNLOAD_URL: https://raw.githubusercontent.com <br>\n",
        "BESLAB_PUBLIC_CODECOLLAB_USERNAME: abc@xyz.com <br>\n",
        "BESLAB_PUBLIC_CODECOLLAB_ACCESS_TOKEN: github_nidsjvn==ifonifecdsvs<br>\n",
        "BESLAB_PUBLIC_CODECOLLAB_NAMESPACE: Be-Secure <br>\n",
        "\n",
        "**TODO**\n",
        "Security Tools configurations"
      ],
      "metadata": {
        "id": "bXeguZdrVGfw"
      }
    },
    {
      "cell_type": "markdown",
      "source": [
        "3. Download the BLIman installation script.\n"
      ],
      "metadata": {
        "id": "eNCyEPKxeK6o"
      }
    },
    {
      "cell_type": "code",
      "source": [
        "!curl -o quick_install.sh https://raw.githubusercontent.com/Be-Secure/BLIman/main/quick_install.sh\n",
        "!chmod +x quick_install.sh\n",
        "!PWD=`pwd`\n",
        "!./quick_install.sh install $PWD"
      ],
      "metadata": {
        "id": "R7Y4481hei3T"
      },
      "execution_count": null,
      "outputs": []
    },
    {
      "cell_type": "markdown",
      "source": [
        "4. Source bliman-init.sh"
      ],
      "metadata": {
        "id": "FLjYyVURev0s"
      }
    },
    {
      "cell_type": "code",
      "source": [
        "!source $HOME/.bliman/bin/bliman-init.sh"
      ],
      "metadata": {
        "id": "2tDHWHgde4u0"
      },
      "execution_count": null,
      "outputs": []
    },
    {
      "cell_type": "markdown",
      "source": [
        "5. Initialize the BeSLab in lite mode."
      ],
      "metadata": {
        "id": "2tZTiMW4e8yg"
      }
    },
    {
      "cell_type": "code",
      "source": [
        "!bli init lite"
      ],
      "metadata": {
        "id": "YD8OjVoUfF6e"
      },
      "execution_count": null,
      "outputs": []
    },
    {
      "cell_type": "markdown",
      "source": [
        "6. Source the BesMan init script."
      ],
      "metadata": {
        "id": "iOvcV1BffP55"
      }
    },
    {
      "cell_type": "code",
      "source": [
        "!source $HOME/.besman/bin/besman-init.sh"
      ],
      "metadata": {
        "id": "IeKkZ71PfjFJ"
      },
      "execution_count": null,
      "outputs": []
    },
    {
      "cell_type": "markdown",
      "source": [
        "7. Install the lab."
      ],
      "metadata": {
        "id": "A4xG3bwHfpRS"
      }
    },
    {
      "cell_type": "code",
      "source": [
        "!bli launch"
      ],
      "metadata": {
        "id": "5X25n6kkfsf_"
      },
      "execution_count": null,
      "outputs": []
    },
    {
      "cell_type": "markdown",
      "source": [
        "Note: Press enter when asked on the screen."
      ],
      "metadata": {
        "id": "wcb9FI1mf2-b"
      }
    }
  ]
}