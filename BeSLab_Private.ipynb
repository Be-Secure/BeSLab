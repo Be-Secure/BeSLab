{
  "nbformat": 4,
  "nbformat_minor": 0,
  "metadata": {
    "colab": {
      "provenance": []
    },
    "kernelspec": {
      "name": "python3",
      "display_name": "Python 3"
    },
    "language_info": {
      "name": "python"
    }
  },
  "cells": [
    {
      "cell_type": "markdown",
      "source": [
        "1. Download the Genesis file locally.\n",
        "\n"
      ],
      "metadata": {
        "id": "Il-0L8Emy9n9"
      }
    },
    {
      "cell_type": "code",
      "source": [
        "!curl -o beslab_genesis.yaml https://raw.githubusercontent.com/anilsingla/BeSLab/main/beslab_genesis.yaml"
      ],
      "metadata": {
        "colab": {
          "base_uri": "https://localhost:8080/"
        },
        "id": "fbbDGuJNzRrS",
        "outputId": "09cce57a-0104-4b2d-aa61-df1cbd7d8e0d"
      },
      "execution_count": null,
      "outputs": [
        {
          "output_type": "stream",
          "name": "stdout",
          "text": [
            "  % Total    % Received % Xferd  Average Speed   Time    Time     Time  Current\n",
            "                                 Dload  Upload   Total   Spent    Left  Speed\n",
            "\r  0     0    0     0    0     0      0      0 --:--:-- --:--:-- --:--:--     0\r100 13121  100 13121    0     0  68421      0 --:--:-- --:--:-- --:--:-- 68696\n"
          ]
        }
      ]
    },
    {
      "cell_type": "markdown",
      "source": [
        "2. Edit the Genesis file as required. Update or keep the default values for the mandaotry paramters. <br>\n",
        "\n",
        "Following are the mandatory parameters to set: <br>\n",
        "\n",
        "BLIMAN_HOSTED_URL: https://raw.githubusercontent.com <br>\n",
        "BLIMAN_NAMESPACE: Be-Secure <br>\n",
        "BLIMAN_REPO_URL: https://raw.githubusercontent.com/Be-Secure/BLIman/main <br>\n",
        "BLIMAN_VERSION: 0.1.0 <br>\n",
        "BLIMAN_LAB_URL: https://raw.githubusercontent.com/Be-Secure/BeSLab/main <br>\n",
        "BESLAB_LAB_TYPE: private <br> [ Note: for private lab don't change it ] <br>\n",
        "BESLAB_LAB_MODE: lite <br>\n",
        "BESLAB_PRIVATE_LAB_INFRA_TYPE: cloud <br>\n",
        "BESLAB_PRIVATE_LAB_INFRA_PROVIDER: AWS <br>\n",
        "BESLAB_PRIVATE_LAB_INFRA_PROVIDER_ACCESS_TOKEN: ===dsfdgsrghtenygnryjwtgntryj <br>\n",
        "BESLAB_PRIVATE_LAB_SERVERS_IPS: <br>\n",
        "    - 10.20.0.1 <br>\n",
        "    - 10.50.0.1 <br>\n",
        "BESLAB_PRIVATE_LAB_SERVER_SSH_USERNAME: root <br>\n",
        "BESLAB_PRIVATE_LAB_SERVER_SSH_PASS_LIST: <br>\n",
        "    - 10.20.0.1: Welcome@123 <br>\n",
        "    - 10.50.0.1: Test@123 <br>\n",
        "BESLAB_PRIVATE_LAB_CODECOLLAB_TOOL: gitlab-ce <br>\n",
        "BESLAB_PRIVATE_LAB_CODECOLLAB_TOOL_VERSION: 16.2.1 <br>\n",
        "BESLAB_JAVA_FLAVOUR: openjdk <br>\n",
        "BESLAB_JAVA_VERSION: 8 <br>\n",
        "BESLAB_JAVA_HOME: /opt/tools/ <br>\n",
        "BESLAB_CODECOLLAB_POI_NAME: osspoi-datastore <br>\n",
        "BESLAB_CODECOLLAB_MOI_NAME: ossmoi-datastore <br>\n",
        "BESLAB_CODECOLLAB_VOI_NAME: ossvoi-datastore <br>\n",
        "BESLAB_CODECOLLAB_TDOI_NAME: osstdoi-datastore <br>\n",
        "BESLAB_CODECOLLAB_DOI_NAME: ossdoi-datastore <br>\n",
        "BESLAB_CODECOLLAB_AD_NAME: assessment-datastore <br>\n",
        "BESLAB_CODECOLLAB_OSAR_NAME: osar-datastore <br>\n",
        "\n",
        "BESLAB_DASHBOARD_TOOL: beslighthouse <br>\n",
        "BESLAB_DASHBOARD_RELEASE_VERSION: 0.16.2 <br>\n",
        "BESLAB_DASHBOARD_RELEASE_URL: https://github.com/Be-Secure/BeSlighthouse/archive/refs/tags/0.16.2.tar.gz <br>\n",
        "BESLAB_DASHBOARD_DATASTORES_URL: https://github.com/Be-Secure/ <br>\n",
        "\n",
        "\n",
        "**TODO**\n",
        "Security Tools configurations"
      ],
      "metadata": {
        "id": "gALhr3WSzToD"
      }
    },
    {
      "cell_type": "markdown",
      "source": [
        "3. Download the BLIman installation script. BLIman can be installed as released version or a development version. Choose the commands below depending on installation type required.\n",
        "For example: For developers of BLIman, BeSLab use development version. For production or lab admins use relased version.\n",
        "\n"
      ],
      "metadata": {
        "id": "XKU1rjL82Fwi"
      }
    },
    {
      "cell_type": "markdown",
      "source": [
        "3.1 Developers need to follow below commands."
      ],
      "metadata": {
        "id": "AlsDku6x3KMW"
      }
    },
    {
      "cell_type": "code",
      "source": [
        "!curl -o quick_install.sh https://raw.githubusercontent.com/Be-Secure/BLIman/main/quick_install.sh\n",
        "!chmod +x quick_install.sh\n",
        "!PWD=`pwd`\n",
        "!./quick_install.sh install $PWD"
      ],
      "metadata": {
        "colab": {
          "base_uri": "https://localhost:8080/"
        },
        "id": "a9Fh-PfF3Tv8",
        "outputId": "fcd75f38-6594-4c5d-8c6e-53fe8d6f8925"
      },
      "execution_count": null,
      "outputs": [
        {
          "output_type": "stream",
          "name": "stdout",
          "text": [
            "  % Total    % Received % Xferd  Average Speed   Time    Time     Time  Current\n",
            "                                 Dload  Upload   Total   Spent    Left  Speed\n",
            "\r  0     0    0     0    0     0      0      0 --:--:-- --:--:-- --:--:--     0\r100 26251  100 26251    0     0   137k      0 --:--:-- --:--:-- --:--:--  138k\n",
            " BBBBBBBBBBBBBBBBB   LLLLLLLLLLL             IIIIIIIIIIMMMMMMMM               MMMMMMMM               AAA               NNNNNNNN        NNNNNNNN \n",
            " B::::::::::::::::B  L:::::::::L             I::::::::IM:::::::M             M:::::::M              A:::A              N:::::::N       N::::::N \n",
            " B::::::BBBBBB:::::B L:::::::::L             I::::::::IM::::::::M           M::::::::M             A:::::A             N::::::::N      N::::::N \n",
            " BB:::::B     B:::::BLL:::::::LL             II::::::IIM:::::::::M         M:::::::::M            A:::::::A            N:::::::::N     N::::::N \n",
            "   B::::B     B:::::B  L:::::L                 I::::I  M::::::::::M       M::::::::::M           A:::::::::A           N::::::::::N    N::::::N \n",
            "   B::::B     B:::::B  L:::::L                 I::::I  M:::::::::::M     M:::::::::::M          A:::::A:::::A          N:::::::::::N   N::::::N \n",
            "   B::::BBBBBB:::::B   L:::::L                 I::::I  M:::::::M::::M   M::::M:::::::M         A:::::A A:::::A         N:::::::N::::N  N::::::N \n",
            "   B:::::::::::::BB    L:::::L                 I::::I  M::::::M M::::M M::::M M::::::M        A:::::A   A:::::A        N::::::N N::::N N::::::N \n",
            "   B::::BBBBBB:::::B   L:::::L                 I::::I  M::::::M  M::::M::::M  M::::::M       A:::::A     A:::::A       N::::::N  N::::N:::::::N \n",
            "   B::::B     B:::::B  L:::::L                 I::::I  M::::::M   M:::::::M   M::::::M      A:::::AAAAAAAAA:::::A      N::::::N   N:::::::::::N \n",
            "   B::::B     B:::::B  L:::::L                 I::::I  M::::::M    M:::::M    M::::::M     A:::::::::::::::::::::A     N::::::N    N::::::::::N \n",
            "   B::::B     B:::::B  L:::::L         LLLLLL  I::::I  M::::::M     MMMMM     M::::::M    A:::::AAAAAAAAAAAAA:::::A    N::::::N     N:::::::::N \n",
            " BB:::::BBBBBB::::::BLL:::::::LLLLLLLLL:::::LII::::::IIM::::::M               M::::::M   A:::::A             A:::::A   N::::::N      N::::::::N \n",
            " B:::::::::::::::::B L::::::::::::::::::::::LI::::::::IM::::::M               M::::::M  A:::::A               A:::::A  N::::::N       N:::::::N \n",
            " B::::::::::::::::B  L::::::::::::::::::::::LI::::::::IM::::::M               M::::::M A:::::A                 A:::::A N::::::N        N::::::N \n",
            "Looking for a previous installation of BLIMAN...\n",
            "Looking for sed...\n",
            "Installing BLIMAN scripts...\n",
            "Create distribution directories...\n",
            "Getting available candidates...\n",
            "from https://raw.githubusercontent.com/Be-Secure/BLIman/main/candidates.txt\n",
            "Prime the config file...\n",
            "Installing script cli archive...\n",
            "* Copying archive contents...\n",
            "cp: cannot stat 'contrib/': No such file or directory\n",
            "'cp -r \"contrib/\" \"$BLIMAN_DIR\"': command failed with exit code 1.\n"
          ]
        }
      ]
    },
    {
      "cell_type": "markdown",
      "source": [
        "3.2 BeSLab Admin"
      ],
      "metadata": {
        "id": "sVg87JPe39XH"
      }
    },
    {
      "cell_type": "code",
      "source": [
        "!curl -o bliman_install.sh https://raw.githubusercontent.com/Be-Secure/BLIman/main/scripts/tmpl/get.bliman.io.tmpl\n",
        "!chmod +x bliman_install.sh\n",
        "!PWD=`pwd`\n",
        "!./bliman_install.sh install $PWD\n"
      ],
      "metadata": {
        "colab": {
          "base_uri": "https://localhost:8080/"
        },
        "id": "YQ8sDEgc4CjD",
        "outputId": "34c7bf67-39c3-4d0e-b8b4-dc85353c825c"
      },
      "execution_count": null,
      "outputs": [
        {
          "output_type": "stream",
          "name": "stdout",
          "text": [
            "  % Total    % Received % Xferd  Average Speed   Time    Time     Time  Current\n",
            "                                 Dload  Upload   Total   Spent    Left  Speed\n",
            "100 25728  100 25728    0     0   116k      0 --:--:-- --:--:-- --:--:--  117k\n",
            " BBBBBBBBBBBBBBBBB   LLLLLLLLLLL             IIIIIIIIIIMMMMMMMM               MMMMMMMM               AAA               NNNNNNNN        NNNNNNNN \n",
            " B::::::::::::::::B  L:::::::::L             I::::::::IM:::::::M             M:::::::M              A:::A              N:::::::N       N::::::N \n",
            " B::::::BBBBBB:::::B L:::::::::L             I::::::::IM::::::::M           M::::::::M             A:::::A             N::::::::N      N::::::N \n",
            " BB:::::B     B:::::BLL:::::::LL             II::::::IIM:::::::::M         M:::::::::M            A:::::::A            N:::::::::N     N::::::N \n",
            "   B::::B     B:::::B  L:::::L                 I::::I  M::::::::::M       M::::::::::M           A:::::::::A           N::::::::::N    N::::::N \n",
            "   B::::B     B:::::B  L:::::L                 I::::I  M:::::::::::M     M:::::::::::M          A:::::A:::::A          N:::::::::::N   N::::::N \n",
            "   B::::BBBBBB:::::B   L:::::L                 I::::I  M:::::::M::::M   M::::M:::::::M         A:::::A A:::::A         N:::::::N::::N  N::::::N \n",
            "   B:::::::::::::BB    L:::::L                 I::::I  M::::::M M::::M M::::M M::::::M        A:::::A   A:::::A        N::::::N N::::N N::::::N \n",
            "   B::::BBBBBB:::::B   L:::::L                 I::::I  M::::::M  M::::M::::M  M::::::M       A:::::A     A:::::A       N::::::N  N::::N:::::::N \n",
            "   B::::B     B:::::B  L:::::L                 I::::I  M::::::M   M:::::::M   M::::::M      A:::::AAAAAAAAA:::::A      N::::::N   N:::::::::::N \n",
            "   B::::B     B:::::B  L:::::L                 I::::I  M::::::M    M:::::M    M::::::M     A:::::::::::::::::::::A     N::::::N    N::::::::::N \n",
            "   B::::B     B:::::B  L:::::L         LLLLLL  I::::I  M::::::M     MMMMM     M::::::M    A:::::AAAAAAAAAAAAA:::::A    N::::::N     N:::::::::N \n",
            " BB:::::BBBBBB::::::BLL:::::::LLLLLLLLL:::::LII::::::IIM::::::M               M::::::M   A:::::A             A:::::A   N::::::N      N::::::::N \n",
            " B:::::::::::::::::B L::::::::::::::::::::::LI::::::::IM::::::M               M::::::M  A:::::A               A:::::A  N::::::N       N:::::::N \n",
            " B::::::::::::::::B  L::::::::::::::::::::::LI::::::::IM::::::M               M::::::M A:::::A                 A:::::A N::::::N        N::::::N \n",
            "Looking for a previous installation of BLIMAN...\n",
            "BLIMAN found.\n",
            "\n",
            "======================================================================================================\n",
            " You already have BLIMAN installed.\n",
            " BLIMAN was found at:\n",
            "\n",
            "    /root/.bliman\n",
            "\n",
            " Please consider running the following if you need to upgrade.\n",
            "\n",
            "    $ bli selfupdate force\n",
            "\n",
            "======================================================================================================\n",
            "\n"
          ]
        }
      ]
    },
    {
      "cell_type": "markdown",
      "source": [
        "4. Source bliman-init.sh"
      ],
      "metadata": {
        "id": "aIhoK3YG4a3a"
      }
    },
    {
      "cell_type": "code",
      "source": [
        "!source $HOME/.bliman/bin/bliman-init.sh"
      ],
      "metadata": {
        "colab": {
          "base_uri": "https://localhost:8080/"
        },
        "id": "u3iji8-s4lDy",
        "outputId": "6de9ddb7-92f8-45f7-ea03-065df0576263"
      },
      "execution_count": null,
      "outputs": [
        {
          "output_type": "stream",
          "name": "stdout",
          "text": [
            "/bin/bash: line 1: /root/.bliman/bin/bliman-init.sh: No such file or directory\n"
          ]
        }
      ]
    },
    {
      "cell_type": "markdown",
      "source": [
        "5. Initialize the BeSLab in lite mode."
      ],
      "metadata": {
        "id": "uMPMW_vG42dI"
      }
    },
    {
      "cell_type": "code",
      "source": [
        "!bli init lite"
      ],
      "metadata": {
        "id": "BGrU4_4O5Dst"
      },
      "execution_count": null,
      "outputs": []
    },
    {
      "cell_type": "markdown",
      "source": [
        "6. Source the BesMan init script."
      ],
      "metadata": {
        "id": "caca3e8O5HbT"
      }
    },
    {
      "cell_type": "code",
      "source": [
        "!source $HOME/.besman/bin/besman-init.sh"
      ],
      "metadata": {
        "id": "eKj0hNDk5MGD"
      },
      "execution_count": null,
      "outputs": []
    },
    {
      "cell_type": "markdown",
      "source": [
        "7. launch the lab."
      ],
      "metadata": {
        "id": "uDetpIa25UUt"
      }
    },
    {
      "cell_type": "code",
      "source": [
        "!bli launch"
      ],
      "metadata": {
        "id": "k2hzYF1Q5alk"
      },
      "execution_count": null,
      "outputs": []
    },
    {
      "cell_type": "markdown",
      "source": [
        "Note:\n",
        "Press enter when asked on the screen."
      ],
      "metadata": {
        "id": "TN5X8_ui5fYq"
      }
    },
    {
      "cell_type": "markdown",
      "source": [
        "8. Check the tools installed as expected."
      ],
      "metadata": {
        "id": "z84G4bAE5dLf"
      }
    },
    {
      "cell_type": "markdown",
      "source": [
        "8.1 Access the BeSlighthouse on 127.0.0.1:3000 OR localhost:3000 on browser."
      ],
      "metadata": {
        "id": "Ye0wgyKk55pe"
      }
    },
    {
      "cell_type": "markdown",
      "source": [
        "8.2 Access Gitlab on local system. Enter localhost / 127.0.0.1 in the browser and enter. Gitlab login page should appear."
      ],
      "metadata": {
        "id": "MNxth67k6IK2"
      }
    },
    {
      "cell_type": "markdown",
      "source": [
        "8.2.1 Get the root user password from file /etc/gitlab/initial_root_password."
      ],
      "metadata": {
        "id": "r3qCNn-y6Zau"
      }
    },
    {
      "cell_type": "markdown",
      "source": [
        "8.2.2 Login to Gitlab UI using username as root and password from step 8.2.1."
      ],
      "metadata": {
        "id": "Squ2WCTm6j3T"
      }
    },
    {
      "cell_type": "markdown",
      "source": [
        "8.2.3 Create a API access token in gitlab for root user. Follow steps mentioned in playbook \"How to get api access token in Gitlab\""
      ],
      "metadata": {
        "id": "a1roXlJk6zom"
      }
    },
    {
      "cell_type": "markdown",
      "source": [
        "9. Create the initial repos for POI, MOI, TDOI, DOI, AD etc in GitLab using the API token."
      ],
      "metadata": {
        "id": "RdZPKwSf7J-s"
      }
    },
    {
      "cell_type": "code",
      "source": [
        "!bli createrepos access_token"
      ],
      "metadata": {
        "id": "C_4xa1sc7ev5"
      },
      "execution_count": null,
      "outputs": []
    },
    {
      "cell_type": "markdown",
      "source": [
        "*Note*: Above command is not available yet. Work in progress for it."
      ],
      "metadata": {
        "id": "Gbyrlg2r7lvy"
      }
    },
    {
      "cell_type": "markdown",
      "source": [
        "10. Populate data in repos created."
      ],
      "metadata": {
        "id": "3uCti8NH7tP2"
      }
    },
    {
      "cell_type": "code",
      "source": [
        "!bli populate reponame source_JSON_file_path_or_url"
      ],
      "metadata": {
        "id": "kqpO37ye75P-"
      },
      "execution_count": null,
      "outputs": []
    },
    {
      "cell_type": "markdown",
      "source": [
        "*Note*: Above command is not available yet.\n",
        "\n"
      ],
      "metadata": {
        "id": "7MKC72x68Uc8"
      }
    }
  ]
}