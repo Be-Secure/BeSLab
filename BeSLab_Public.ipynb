{
  "nbformat": 4,
  "nbformat_minor": 0,
  "metadata": {
    "colab": {
      "provenance": []
    },
    "kernelspec": {
      "name": "python3",
      "display_name": "Python 3"
    },
    "language_info": {
      "name": "python"
    }
  },
  "cells": [
    {
      "cell_type": "markdown",
      "source": [
        "BeSLab Public type represents a OSS security lab which does use the online tools such as github, gitlab platform for the code collaboration and SAST tools from the assessment tools as a service provided by the tool development organization."
      ],
      "metadata": {
        "id": "Jc4g2OIIg9oK"
      }
    },
    {
      "cell_type": "markdown",
      "source": [
        "1. Download the Genesis file."
      ],
      "metadata": {
        "id": "-2pTH28Ehp1I"
      }
    },
    {
      "cell_type": "code",
      "execution_count": null,
      "metadata": {
        "id": "FRIK3E6Rg7pj"
      },
      "outputs": [],
      "source": [
        "!curl -o beslab_genesis.yaml https://raw.githubusercontent.com/anilsingla/BeSLab/main/beslab_genesis.yaml"
      ]
    },
    {
      "cell_type": "markdown",
      "source": [
        "2. Edit the Genesis file as required.\n",
        "Following are the required data for the public deployment of BeSLab.\n",
        "\n",
        "BLIMAN_HOSTED_URL: https://raw.githubusercontent.com <br>\n",
        "BLIMAN_NAMESPACE: Be-Secure <br>\n",
        "BLIMAN_REPO_URL: https://raw.githubusercontent.com/Be-Secure/BLIman/main <br>\n",
        "BLIMAN_VERSION: 0.1.0 <br>\n",
        "BLIMAN_LAB_URL: https://raw.githubusercontent.com/Be-Secure/BeSLab/main <br>\n",
        "BESLAB_LAB_TYPE: personal <br> [ Note: for personal lab don't change it ] <br>\n",
        "BESLAB_LAB_MODE: lite <br>\n",
        "BESLAB_JAVA_FLAVOUR: openjdk <br>\n",
        "BESLAB_JAVA_VERSION: 8 <br>\n",
        "BESLAB_JAVA_HOME: /opt/tools/ <br>\n",
        "BESLAB_DASHBOARD_TOOL: beslighthouse <br>\n",
        "BESLAB_DASHBOARD_RELEASE_VERSION: 0.16.2 <br>\n",
        "BESLAB_DASHBOARD_RELEASE_URL: https://github.com/Be-Secure/BeSlighthouse/archive/refs/tags/0.16.2.tar.gz <br>\n",
        "BESLAB_DASHBOARD_DATASTORES_URL: https://github.com/Be-Secure/ <br>\n",
        "BESLAB_CODECOLLAB_POI_NAME: osspoi-datastore <br>\n",
        "BESLAB_CODECOLLAB_MOI_NAME: ossmoi-datastore <br>\n",
        "BESLAB_CODECOLLAB_VOI_NAME: ossvoi-datastore <br>\n",
        "BESLAB_CODECOLLAB_TDOI_NAME: osstdoi-datastore <br>\n",
        "BESLAB_CODECOLLAB_DOI_NAME: ossdoi-datastore <br>\n",
        "BESLAB_CODECOLLAB_AD_NAME: assessment-datastore <br>\n",
        "BESLAB_CODECOLLAB_OSAR_NAME: osar-datastore <br>\n",
        "BESLAB_PUBLIC_CODECOLLAB_PROVIDER_NAME: github <br>\n",
        "BESLAB_PUBLIC_CODECOLLAB_PROVIDER_BROWSER_URL: https://github.com <br>\n",
        "BESLAB_PUBLIC_CODECOLLAB_PROVIDER_DOWNLOAD_URL: https://raw.githubusercontent.com <br>\n",
        "BESLAB_PUBLIC_CODECOLLAB_USERNAME: abc@xyz.com <br>\n",
        "BESLAB_PUBLIC_CODECOLLAB_ACCESS_TOKEN: github_nidsjvn==ifonifecdsvs<br>\n",
        "BESLAB_PUBLIC_CODECOLLAB_NAMESPACE: Be-Secure <br>\n",
        "\n",
        "**TODO**\n",
        "Security Tools configurations"
      ],
      "metadata": {
        "id": "GgVmPKUwhyra"
      }
    },
    {
      "cell_type": "markdown",
      "source": [
        "3. Download the BLIman installation script. BLIman can be installed as released version or a development version. Choose the commands below depending on installation type required.\n",
        "For example: For developers of BLIman, BeSLab use development version. For production or lab admins use relased version.\n"
      ],
      "metadata": {
        "id": "wu-NzbCZinGf"
      }
    },
    {
      "cell_type": "markdown",
      "source": [
        "3.1 Developers need to follow below commands."
      ],
      "metadata": {
        "id": "c9WkR1zlitwI"
      }
    },
    {
      "cell_type": "code",
      "source": [
        "!curl -o quick_install.sh https://raw.githubusercontent.com/Be-Secure/BLIman/main/quick_install.sh\n",
        "!chmod +x quick_install.sh\n",
        "!PWD=`pwd`\n",
        "!./quick_install.sh install $PWD"
      ],
      "metadata": {
        "id": "5CLCIzPvi0CD"
      },
      "execution_count": null,
      "outputs": []
    },
    {
      "cell_type": "markdown",
      "source": [
        "3.2 BeSLab Admin"
      ],
      "metadata": {
        "id": "qeX04YVki4Rq"
      }
    },
    {
      "cell_type": "code",
      "source": [
        "!curl -o bliman_install.sh https://raw.githubusercontent.com/Be-Secure/BLIman/main/scripts/tmpl/get.bliman.io.tmpl\n",
        "!chmod +x bliman_install.sh\n",
        "!PWD=`pwd`\n",
        "!./bliman_install.sh install $PWD"
      ],
      "metadata": {
        "id": "tprIzrxbi9HZ"
      },
      "execution_count": null,
      "outputs": []
    },
    {
      "cell_type": "markdown",
      "source": [
        "4. Source bliman-init.sh"
      ],
      "metadata": {
        "id": "Xhj0_OZejBAE"
      }
    },
    {
      "cell_type": "code",
      "source": [
        "!source $HOME/.bliman/bin/bliman-init.sh"
      ],
      "metadata": {
        "id": "nqGRqPiAjLVd"
      },
      "execution_count": null,
      "outputs": []
    },
    {
      "cell_type": "markdown",
      "source": [
        "5. Initialize the BeSLab in lite mode."
      ],
      "metadata": {
        "id": "az04Co1YjMR-"
      }
    },
    {
      "cell_type": "code",
      "source": [
        "!bli init lite"
      ],
      "metadata": {
        "id": "qbRrbuYFjR8g"
      },
      "execution_count": null,
      "outputs": []
    },
    {
      "cell_type": "markdown",
      "source": [
        "6. Source the BesMan init script."
      ],
      "metadata": {
        "id": "GJNuA8AsjVYX"
      }
    },
    {
      "cell_type": "code",
      "source": [
        "!source $HOME/.besman/bin/besman-init.sh"
      ],
      "metadata": {
        "id": "bjGC_yInjaAA"
      },
      "execution_count": null,
      "outputs": []
    },
    {
      "cell_type": "markdown",
      "source": [
        "7. Install the lab"
      ],
      "metadata": {
        "id": "CKRtw0G5jeMR"
      }
    },
    {
      "cell_type": "code",
      "source": [
        "!bli launch"
      ],
      "metadata": {
        "id": "k0JuN4O7jnET"
      },
      "execution_count": null,
      "outputs": []
    },
    {
      "cell_type": "markdown",
      "source": [
        "8. Verify installations"
      ],
      "metadata": {
        "id": "aUGwYOz5jnx4"
      }
    }
  ]
}